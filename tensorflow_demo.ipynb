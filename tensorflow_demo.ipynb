{
  "nbformat": 4,
  "nbformat_minor": 0,
  "metadata": {
    "colab": {
      "name": "tensorflow_demo.ipynb",
      "version": "0.3.2",
      "provenance": [],
      "collapsed_sections": []
    },
    "kernelspec": {
      "name": "python3",
      "display_name": "Python 3"
    }
  },
  "cells": [
    {
      "cell_type": "code",
      "metadata": {
        "id": "lKcPgba9ySsM",
        "colab_type": "code",
        "colab": {}
      },
      "source": [
        "import tensorflow as tf\n",
        "import numpy as np\n",
        "import matplotlib.pyplot as plt\n"
      ],
      "execution_count": 0,
      "outputs": []
    },
    {
      "cell_type": "code",
      "metadata": {
        "id": "UJucD-BSzHx-",
        "colab_type": "code",
        "colab": {}
      },
      "source": [
        "# First, we should declare a variable containing the size of the training set we want to generate.\n",
        "observations = 100000\n",
        "\n",
        "# We will work with two variables as inputs. You can think about them as x1 and x2 in our previous examples.\n",
        "# We have picked x and z, since it is easier to differentiate them.\n",
        "# We generate them randomly, drawing from an uniform distribution. There are 3 arguments of this method (low, high, size).\n",
        "# The size of xs and zs is observations x 1. In this case: 1000 x 1.\n",
        "xs = np.random.uniform(low=-10, high=10, size=(observations,1))\n",
        "zs = np.random.uniform(-10, 10, (observations,1))\n",
        "\n",
        "# Combine the two dimensions of the input into one input matrix. \n",
        "# This is the X matrix from the linear model y = x*w + b.\n",
        "# column_stack is a Numpy method, which combines two matrices (vectors) into one.\n",
        "generated_inputs = np.column_stack((xs,zs))\n",
        "\n",
        "# We add a random small noise to the function i.e. f(x,z) = 2x - 3z + 5 + <small noise>\n",
        "noise = np.random.uniform(-1, 1, (observations,1))\n",
        "\n",
        "# Produce the targets according to our f(x,z) = 2x - 3z + 5 + noise definition.\n",
        "# In this way, we are basically saying: the weights should be 2 and -3, while the bias is 5.\n",
        "generated_targets = 2*xs - 3*zs + 5 + noise\n",
        "\n",
        "# save into an npz file called \"TF_intro\"\n",
        "np.savez('TF_intro', inputs=generated_inputs, targets=generated_targets)\n",
        "\n"
      ],
      "execution_count": 0,
      "outputs": []
    },
    {
      "cell_type": "code",
      "metadata": {
        "id": "bFQ37akbzv6B",
        "colab_type": "code",
        "colab": {}
      },
      "source": [
        "input_size =2\n",
        "output_size =1"
      ],
      "execution_count": 0,
      "outputs": []
    },
    {
      "cell_type": "code",
      "metadata": {
        "id": "_j-8KITU1gqj",
        "colab_type": "code",
        "colab": {}
      },
      "source": [
        "# Here we define a basic TensorFlow object - the placeholder.\n",
        "# As before, we will feed the inputs and targets to the model. \n",
        "# In the TensorFlow context, we feed the data to the model THROUGH the placeholders. \n",
        "# The particular inputs and targets are contained in our .npz file.\n",
        "\n",
        "# The first None parameter of the placeholders' shape means that\n",
        "# this dimension could be of any length. That's since we are mainly interested in\n",
        "# the input size, i.e. how many input variables we have and not the number of samples (observations)\n",
        "# The number of input variables changes the MODEL itself, while the number of observations doesn't.\n",
        "# Remember that the weights and biases were independent of the number of samples, so the MODEL is independent.\n",
        "# Important: NO calculation happens at this point.\n",
        "inputs = tf.placeholder(tf.float32, [None, input_size])\n",
        "targets = tf.placeholder(tf.float32, [None, output_size])\n",
        "\n",
        "# As before, we define our weights and biases.\n",
        "# They are the other basic TensorFlow object - a variable.\n",
        "# We feed data into placeholders and they have a different value for each iteration\n",
        "# Variables, however, preserve their values across iterations.\n",
        "# To sum up, data goes into placeholders; parameters go into variables.\n",
        "\n",
        "# We use the same random uniform initialization in [-0.1,0.1] as in the minimal example but using the TF syntax\n",
        "# Important: NO calculation happens at this point.\n",
        "weights = tf.Variable(tf.random_uniform([input_size, output_size], minval=-0.1, maxval=0.1))\n",
        "biases = tf.Variable(tf.random_uniform([output_size], minval=-0.1, maxval=0.1))\n",
        "\n",
        "# We get the outputs following our linear combination: y = xw + b\n",
        "# Important: NO calculation happens at this point.\n",
        "# This line simply tells TensorFlow what rule to apply when we feed in the training data (below).\n",
        "outputs = tf.matmul(inputs, weights) + biases"
      ],
      "execution_count": 0,
      "outputs": []
    },
    {
      "cell_type": "code",
      "metadata": {
        "id": "tHLjW3xm1-M_",
        "colab_type": "code",
        "colab": {}
      },
      "source": [
        "# Again, we use a loss function, this time readily available, though.\n",
        "# mean_squared_error is the scaled L2-norm (per observation)\n",
        "# We divide by two to follow our earlier definitions. That doesn't really change anything.\n",
        "mean_loss = tf.losses.mean_squared_error(labels=targets, predictions=outputs) / 2.\n",
        "\n",
        "# Note that there also exists a function tf.nn.l2_loss. \n",
        "# tf.nn.l2_loss calculates the loss over all samples, instead of the average loss per sample.\n",
        "# Practically it's the same, a matter of preference.\n",
        "# The difference would be a smaller or larger learning rate to achieve the exact same result.\n",
        "\n",
        "# Instead of implementing Gradient Descent on our own, in TensorFlow we can simply state\n",
        "# \"Minimize the mean loss by using Gradient Descent with a given learning rate\"\n",
        "# Simple as that.\n",
        "optimize = tf.train.GradientDescentOptimizer(learning_rate=0.01).minimize(mean_loss)"
      ],
      "execution_count": 0,
      "outputs": []
    },
    {
      "cell_type": "code",
      "metadata": {
        "id": "WCxbL_whrRdL",
        "colab_type": "code",
        "colab": {}
      },
      "source": [
        ""
      ],
      "execution_count": 0,
      "outputs": []
    },
    {
      "cell_type": "markdown",
      "metadata": {
        "id": "rgVARBFt3oPn",
        "colab_type": "text"
      },
      "source": [
        ""
      ]
    },
    {
      "cell_type": "code",
      "metadata": {
        "id": "6-YHcYJgufV8",
        "colab_type": "code",
        "colab": {
          "base_uri": "https://localhost:8080/",
          "height": 71
        },
        "outputId": "bdfac2eb-ca7a-4aec-f118-1f3652508b46"
      },
      "source": [
        "# So far we've defined the placeholders, variables, the loss function and the optimization method.\n",
        "# We have the structure for training, but we haven't trained anything yet.\n",
        "# The actual training (and subsequent implementation of the ML algorithm) happens inside sessions.\n",
        "sess = tf.InteractiveSession()"
      ],
      "execution_count": 56,
      "outputs": [
        {
          "output_type": "stream",
          "text": [
            "/usr/local/lib/python3.6/dist-packages/tensorflow/python/client/session.py:1735: UserWarning: An interactive session is already active. This can cause out-of-memory errors in some cases. You must explicitly call `InteractiveSession.close()` to release resources held by the other session(s).\n",
            "  warnings.warn('An interactive session is already active. This can '\n"
          ],
          "name": "stderr"
        }
      ]
    },
    {
      "cell_type": "code",
      "metadata": {
        "id": "45C08YTjvAME",
        "colab_type": "code",
        "colab": {}
      },
      "source": [
        "# Before we start training, we need to initialize our variables: the weights and biases.\n",
        "# There is a specific method for initializing called global_variables_initializer().\n",
        "# Let's declare a variable \"initializer\" that will do that.\n",
        "initializer = tf.global_variables_initializer()\n",
        "\n",
        "# Time to initialize the variables.\n",
        "sess.run(initializer)"
      ],
      "execution_count": 0,
      "outputs": []
    },
    {
      "cell_type": "code",
      "metadata": {
        "id": "AOx4XXf8wVdO",
        "colab_type": "code",
        "colab": {}
      },
      "source": [
        "# We finally load the training data we created above.\n",
        "training_data = np.load('TF_intro.npz')"
      ],
      "execution_count": 0,
      "outputs": []
    },
    {
      "cell_type": "code",
      "metadata": {
        "id": "jGcCD8iQ0ZpY",
        "colab_type": "code",
        "colab": {
          "base_uri": "https://localhost:8080/",
          "height": 1000
        },
        "outputId": "ab27a1dd-313e-488e-9aaf-ccb98a95f7db"
      },
      "source": [
        "# As in the previous example, we train for a set number (100) of iterations over the dataset\n",
        "for i in range(100):\n",
        "    # This expression is a bit more complex but you'll learn to appreciate its power and\n",
        "    # flexibility in the following lessons.\n",
        "    # sess.run is the session's function to actually do something, anything.\n",
        "    # Above, we used it to initialize the variables.\n",
        "    # Here, we use it to feed the training data to the computational graph, defined by the feed_dict parameter\n",
        "    # and run operations (already defined above), given as the first parameter (optimize, mean_loss).\n",
        "    \n",
        "    # So the line of code means: \"Run the optimize and mean_loss operations by filling the placeholder\n",
        "    # objects with data from the feed_dict parameter\".\n",
        "    # Curr_loss catches the output from the two operations.\n",
        "    # Using \"_,\" we omit the first one, because optimize has no output (it's always \"None\"). \n",
        "    # The second one catches the value of the mean_loss for the current run, thus curr_loss actually = mean_loss \n",
        "    _, curr_loss = sess.run([optimize, mean_loss], \n",
        "        feed_dict={inputs: training_data['inputs'], targets: training_data['targets']})\n",
        "    \n",
        "    # We print the current average loss\n",
        "    print(curr_loss)"
      ],
      "execution_count": 59,
      "outputs": [
        {
          "output_type": "stream",
          "text": [
            "224.3692\n",
            "107.13951\n",
            "54.59339\n",
            "30.96922\n",
            "20.27844\n",
            "15.372545\n",
            "13.05551\n",
            "11.898395\n",
            "11.262275\n",
            "10.861455\n",
            "10.568148\n",
            "10.325183\n",
            "10.106948\n",
            "9.901953\n",
            "9.705012\n",
            "9.513771\n",
            "9.327128\n",
            "9.144556\n",
            "8.965775\n",
            "8.790625\n",
            "8.618991\n",
            "8.450785\n",
            "8.285936\n",
            "8.124368\n",
            "7.9660177\n",
            "7.8108163\n",
            "7.658706\n",
            "7.5096235\n",
            "7.363505\n",
            "7.2202964\n",
            "7.079938\n",
            "6.9423714\n",
            "6.80754\n",
            "6.6753964\n",
            "6.54588\n",
            "6.418941\n",
            "6.294527\n",
            "6.17259\n",
            "6.0530787\n",
            "5.9359493\n",
            "5.8211465\n",
            "5.7086287\n",
            "5.5983515\n",
            "5.490268\n",
            "5.3843365\n",
            "5.280512\n",
            "5.1787524\n",
            "5.07902\n",
            "4.9812713\n",
            "4.8854675\n",
            "4.7915707\n",
            "4.699542\n",
            "4.6093435\n",
            "4.5209417\n",
            "4.4342995\n",
            "4.34938\n",
            "4.266151\n",
            "4.1845775\n",
            "4.1046276\n",
            "4.02627\n",
            "3.949471\n",
            "3.8741992\n",
            "3.8004255\n",
            "3.7281203\n",
            "3.657254\n",
            "3.5877979\n",
            "3.5197244\n",
            "3.4530046\n",
            "3.387614\n",
            "3.3235228\n",
            "3.2607076\n",
            "3.1991432\n",
            "3.1388044\n",
            "3.079665\n",
            "3.0217025\n",
            "2.964893\n",
            "2.909215\n",
            "2.8546453\n",
            "2.8011596\n",
            "2.7487402\n",
            "2.6973631\n",
            "2.6470082\n",
            "2.5976565\n",
            "2.5492854\n",
            "2.501878\n",
            "2.4554126\n",
            "2.4098737\n",
            "2.3652403\n",
            "2.3214936\n",
            "2.2786198\n",
            "2.2365975\n",
            "2.1954122\n",
            "2.1550462\n",
            "2.115483\n",
            "2.076708\n",
            "2.0387046\n",
            "2.0014565\n",
            "1.9649503\n",
            "1.92917\n",
            "1.8941029\n"
          ],
          "name": "stdout"
        }
      ]
    },
    {
      "cell_type": "code",
      "metadata": {
        "id": "zhwrvVHj1abM",
        "colab_type": "code",
        "colab": {
          "base_uri": "https://localhost:8080/",
          "height": 283
        },
        "outputId": "77829bee-04e5-42b7-cd1f-106500f1ee2d"
      },
      "source": [
        "# As before, we want to plot the last output vs targets after the training is supposedly over.\n",
        "# Same notation as above but this time we don't want to train anymore, and we are not interested\n",
        "# in the loss function value.\n",
        "# What we want, however, are the outputs. \n",
        "# Therefore, instead of the optimize and mean_loss operations, we pass the \"outputs\" as the only parameter.\n",
        "out = sess.run([outputs], \n",
        "               feed_dict={inputs: training_data['inputs']})\n",
        "# The model is optimized, so the outputs are calculated based on the last form of the model\n",
        "\n",
        "# We have to np.squeeze the arrays in order to fit them to what the plot function expects.\n",
        "# Doesn't change anything as we cut dimensions of size 1 - just a technicality.\n",
        "plt.plot(np.squeeze(out), np.squeeze(training_data['targets']))\n",
        "plt.xlabel('outputs')\n",
        "plt.ylabel('targets')\n",
        "plt.show()\n",
        "        \n",
        "# Voila - what you see should be exactly the same as in the previous notebook!\n",
        "# You probably don't see the point of TensorFlow now - it took us more lines of code\n",
        "# to achieve this simple result. However, once we go deeper in the next chapter,\n",
        "# TensorFlow will save us hundreds of lines of code."
      ],
      "execution_count": 60,
      "outputs": [
        {
          "output_type": "display_data",
          "data": {
            "image/png": "[encoded data removed]",
            "text/plain": [
              "<Figure size 432x288 with 1 Axes>"
            ]
          },
          "metadata": {
            "tags": []
          }
        }
      ]
    },
    {
      "cell_type": "code",
      "metadata": {
        "id": "DBCq6_mS2x3S",
        "colab_type": "code",
        "colab": {}
      },
      "source": [
        ""
      ],
      "execution_count": 0,
      "outputs": []
    }
  ]
}