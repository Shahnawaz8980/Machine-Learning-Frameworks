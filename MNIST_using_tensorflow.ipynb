{
  "nbformat": 4,
  "nbformat_minor": 0,
  "metadata": {
    "colab": {
      "name": "MNIST_using_tensorflow.ipynb",
      "version": "0.3.2",
      "provenance": [],
      "collapsed_sections": []
    },
    "kernelspec": {
      "name": "python3",
      "display_name": "Python 3"
    }
  },
  "cells": [
    {
      "cell_type": "code",
      "metadata": {
        "id": "bp8Y3czSAq_t",
        "colab_type": "code",
        "outputId": "1790c241-f40b-4a4e-9036-6cd891ecc5d9",
        "colab": {
          "base_uri": "https://localhost:8080/",
          "height": 85
        }
      },
      "source": [
        "# Import Relevent Paclages\n",
        "\n",
        "import numpy as np\n",
        "import tensorflow as tf\n",
        "from tensorflow.examples.tutorials.mnist import input_data\n",
        "\n",
        "mnist = input_data.read_data_sets(\"MNIST_data/\",one_hot=True)"
      ],
      "execution_count": 5,
      "outputs": [
        {
          "output_type": "stream",
          "text": [
            "Extracting MNIST_data/train-images-idx3-ubyte.gz\n",
            "Extracting MNIST_data/train-labels-idx1-ubyte.gz\n",
            "Extracting MNIST_data/t10k-images-idx3-ubyte.gz\n",
            "Extracting MNIST_data/t10k-labels-idx1-ubyte.gz\n"
          ],
          "name": "stdout"
        }
      ]
    },
    {
      "cell_type": "code",
      "metadata": {
        "id": "O4Hg43z1DdT_",
        "colab_type": "code",
        "outputId": "df9f8d9a-4f1e-4a0b-dfee-99870741b7d3",
        "colab": {
          "base_uri": "https://localhost:8080/",
          "height": 190
        }
      },
      "source": [
        "# OUTLINE MODEL\n",
        "\n",
        "input_size = 784\n",
        "output_size = 10\n",
        "# Use same hidden layer size for both hidden layers. Not a necessity.\n",
        "hidden_layer_size = 50\n",
        "\n",
        "# Reset any variables left in memory from previous runs.\n",
        "tf.reset_default_graph()\n",
        "\n",
        "# As in the previous example - declare placeholders where the data will be fed into.\n",
        "inputs = tf.placeholder(tf.float32, [None, input_size])\n",
        "targets = tf.placeholder(tf.float32, [None, output_size])\n",
        "\n",
        "# Weights and biases for the first linear combination between the inputs and the first hidden layer.\n",
        "# Use get_variable in order to make use of the default TensorFlow initializer which is Xavier.\n",
        "weights_1 = tf.get_variable(\"weights_1\", [input_size, hidden_layer_size])\n",
        "biases_1 = tf.get_variable(\"biases_1\", [hidden_layer_size])\n",
        "\n",
        "# Operation between the inputs and the first hidden layer.\n",
        "# We've chosen ReLu as our activation function. You can try playing with different non-linearities.\n",
        "outputs_1 = tf.nn.relu(tf.matmul(inputs, weights_1) + biases_1)\n",
        "\n",
        "# Weights and biases for the second linear combination.\n",
        "# This is between the first and second hidden layers.\n",
        "weights_2 = tf.get_variable(\"weights_2\", [hidden_layer_size, hidden_layer_size])\n",
        "biases_2 = tf.get_variable(\"biases_2\", [hidden_layer_size])\n",
        "\n",
        "# Operation between the first and the second hidden layers. Again, we use ReLu.\n",
        "outputs_2 = tf.nn.relu(tf.matmul(outputs_1, weights_2) + biases_2)\n",
        "\n",
        "\n",
        "\n",
        "# ***************************************************************************************************\n",
        "# SOLUTION\n",
        "\n",
        "# Don't forget to change the shape of weights_3 and biases_3. \n",
        "# They used to lead to the output layer, but now they lead to the third hidden layer\n",
        "weights_3 = tf.get_variable(\"weights_3\", [hidden_layer_size, hidden_layer_size])\n",
        "biases_3 = tf.get_variable(\"biases_3\", [hidden_layer_size])\n",
        "\n",
        "# Create outputs_3 variable. I'll use ReLu once again\n",
        "outputs_3 = tf.nn.relu(tf.matmul(outputs_2,weights_3) + biases_3)\n",
        "\n",
        "# Create the new weights and biases. They lead to the output layer, so the shapes must be coherent with that.\n",
        "weights_4 = tf.get_variable(\"weights_4\",[hidden_layer_size,output_size])\n",
        "biases_4 = tf.get_variable(\"biases_4\", [output_size])\n",
        "\n",
        "# The outputs are a function of outputs_3, weights_4, and biases_4\n",
        "outputs = tf.matmul(outputs_3, weights_4) + biases_4\n",
        "\n",
        "\n",
        "# ***************************************************************************************************\n",
        "# Calculate the loss function for every output/target pair.\n",
        "# The function used is the same as applying softmax to the last layer and then calculating cross entropy\n",
        "# with the function we've seen in the lectures. This function, however, combines them in a clever way, \n",
        "# which makes it both faster and more numerically stable (when dealing with very small numbers).\n",
        "# Logits here means: unscaled probabilities (so, the outputs, before they are scaled by the softmax)\n",
        "# Naturally, the labels are the targets.\n",
        "loss = tf.nn.softmax_cross_entropy_with_logits(logits=outputs, labels=targets)\n",
        "\n",
        "# Get the average loss\n",
        "mean_loss = tf.reduce_mean(loss)\n",
        "\n",
        "# Define the optimization step. Using adaptive optimizers such as Adam in TensorFlow\n",
        "# is as simple as that.\n",
        "optimize = tf.train.AdamOptimizer(learning_rate=0.001).minimize(mean_loss)\n",
        "\n",
        "# Get a 0 or 1 for every input in the batch indicating whether it output the correct answer out of the 10.\n",
        "out_equals_target = tf.equal(tf.argmax(outputs, 1), tf.argmax(targets, 1))\n",
        "\n",
        "# Get the average accuracy of the outputs.\n",
        "accuracy = tf.reduce_mean(tf.cast(out_equals_target, tf.float32))\n",
        "\n",
        "# Declare the session variable.\n",
        "sess = tf.InteractiveSession()\n",
        "\n",
        "# Initialize the variables. Default initializer is Xavier.\n",
        "initializer = tf.global_variables_initializer()\n",
        "sess.run(initializer)\n",
        "\n",
        "# Batching\n",
        "batch_size = 100\n",
        "\n",
        "# Calculate the number of batches per epoch for the training set.\n",
        "batches_number = mnist.train._num_examples // batch_size\n",
        "\n",
        "# Basic early stopping. Set a miximum number of epochs.\n",
        "max_epochs = 15\n",
        "\n",
        "# Keep track of the validation loss of the previous epoch.\n",
        "# If the validation loss becomes increasing, we want to trigger early stopping.\n",
        "# We initially set it at some arbitrarily high number to make sure we don't trigger it\n",
        "# at the first epoch\n",
        "prev_validation_loss = 9999999.\n",
        "\n",
        "import time\n",
        "start_time = time.time()\n",
        "\n",
        "# Create a loop for the epochs. Epoch_counter is a variable which automatically starts from 0.\n",
        "for epoch_counter in range(max_epochs):\n",
        "    \n",
        "    # Keep track of the sum of batch losses in the epoch.\n",
        "    curr_epoch_loss = 0.\n",
        "    \n",
        "    # Iterate over the batches in this epoch.\n",
        "    for batch_counter in range(batches_number):\n",
        "        \n",
        "        # Input batch and target batch are assigned values from the train dataset, given a batch size\n",
        "        input_batch, target_batch = mnist.train.next_batch(batch_size)\n",
        "        \n",
        "        # Run the optimization step and get the mean loss for this batch.\n",
        "        # Feed it with the inputs and the targets we just got from the train dataset\n",
        "        _, batch_loss = sess.run([optimize, mean_loss], \n",
        "            feed_dict={inputs: input_batch, targets: target_batch})\n",
        "        \n",
        "        # Increment the sum of batch losses.\n",
        "        curr_epoch_loss += batch_loss\n",
        "    \n",
        "    # So far curr_epoch_loss contained the sum of all batches inside the epoch\n",
        "    # We want to find the average batch losses over the whole epoch\n",
        "    # The average batch loss is a good proxy for the current epoch loss\n",
        "    curr_epoch_loss /= batches_number\n",
        "    \n",
        "    # At the end of each epoch, get the validation loss and accuracy\n",
        "    # Get the input batch and the target batch from the validation dataset\n",
        "    input_batch, target_batch = mnist.validation.next_batch(mnist.validation._num_examples)\n",
        "    \n",
        "    # Run without the optimization step (simply forward propagate)\n",
        "    validation_loss, validation_accuracy = sess.run([mean_loss, accuracy], \n",
        "        feed_dict={inputs: input_batch, targets: target_batch})\n",
        "    \n",
        "    # Print statistics for the current epoch\n",
        "    # Epoch counter + 1, because epoch_counter automatically starts from 0, instead of 1\n",
        "    # We format the losses with 3 digits after the dot\n",
        "    # We format the accuracy in percentages for easier interpretation\n",
        "    print('Epoch '+str(epoch_counter+1)+\n",
        "          '. Mean loss: '+'{0:.3f}'.format(curr_epoch_loss)+\n",
        "          '. Validation loss: '+'{0:.3f}'.format(validation_loss)+\n",
        "          '. Validation accuracy: '+'{0:.2f}'.format(validation_accuracy * 100.)+'%')\n",
        "    \n",
        "    # Trigger early stopping if validation loss begins increasing.\n",
        "    if validation_loss > prev_validation_loss:\n",
        "        break\n",
        "        \n",
        "    # Store this epoch's validation loss to be used as previous validation loss in the next iteration.\n",
        "    prev_validation_loss = validation_loss\n",
        "\n",
        "# Not essential, but it is nice to know when the algorithm stopped working in the output section, rather than check the kernel\n",
        "print('End of training.')\n",
        "\n",
        "#Add the time it took the algorithm to train\n",
        "print(\"Training time: %s seconds\" % (time.time() - start_time))"
      ],
      "execution_count": 8,
      "outputs": [
        {
          "output_type": "stream",
          "text": [
            "/usr/local/lib/python3.6/dist-packages/tensorflow/python/client/session.py:1735: UserWarning: An interactive session is already active. This can cause out-of-memory errors in some cases. You must explicitly call `InteractiveSession.close()` to release resources held by the other session(s).\n",
            "  warnings.warn('An interactive session is already active. This can '\n"
          ],
          "name": "stderr"
        },
        {
          "output_type": "stream",
          "text": [
            "Epoch 1. Mean loss: 0.419. Validation loss: 0.196. Validation accuracy: 94.38%\n",
            "Epoch 2. Mean loss: 0.176. Validation loss: 0.143. Validation accuracy: 95.78%\n",
            "Epoch 3. Mean loss: 0.133. Validation loss: 0.123. Validation accuracy: 96.36%\n",
            "Epoch 4. Mean loss: 0.109. Validation loss: 0.108. Validation accuracy: 97.00%\n",
            "Epoch 5. Mean loss: 0.092. Validation loss: 0.108. Validation accuracy: 96.90%\n",
            "End of training.\n",
            "Training time: 6.5665271282196045 seconds\n"
          ],
          "name": "stdout"
        }
      ]
    },
    {
      "cell_type": "code",
      "metadata": {
        "id": "euArfVwT-ML_",
        "colab_type": "code",
        "outputId": "bc920842-3685-4a52-cfa0-45e7de388cd7",
        "colab": {
          "base_uri": "https://localhost:8080/",
          "height": 34
        }
      },
      "source": [
        "input_batch, target_batch = mnist.test.next_batch(mnist.test._num_examples)\n",
        "test_accuracy = sess.run([accuracy], \n",
        "    feed_dict={inputs: input_batch, targets: target_batch})\n",
        "\n",
        "# Test accuracy is a list with 1 value, so we want to extract the value from it, using x[0]\n",
        "# Uncomment the print to see how it looks before the manipulation\n",
        "# print (test_accuracy)\n",
        "test_accuracy_percent = test_accuracy[0] * 100.\n",
        "\n",
        "# Print the test accuracy formatted in percentages\n",
        "print('Test accuracy: '+'{0:.2f}'.format(test_accuracy_percent)+'%')"
      ],
      "execution_count": 9,
      "outputs": [
        {
          "output_type": "stream",
          "text": [
            "Test accuracy: 96.46%\n"
          ],
          "name": "stdout"
        }
      ]
    },
    {
      "cell_type": "code",
      "metadata": {
        "id": "j0Bnsnl_-nqv",
        "colab_type": "code",
        "colab": {}
      },
      "source": [
        ""
      ],
      "execution_count": 0,
      "outputs": []
    }
  ]
}